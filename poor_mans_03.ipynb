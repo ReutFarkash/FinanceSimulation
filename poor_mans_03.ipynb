{
 "cells": [
  {
   "cell_type": "code",
   "execution_count": 1,
   "metadata": {},
   "outputs": [],
   "source": [
    "import pandas as pd\n",
    "import datetime as dt\n",
    "from wallet import Wallet\n",
    "from option import Option\n",
    "from stock import Stock\n",
    "from strategy import Strategy\n",
    "from data_gen import get_option_data"
   ]
  },
  {
   "cell_type": "code",
   "execution_count": 2,
   "metadata": {},
   "outputs": [],
   "source": [
    "d_df = get_option_data()"
   ]
  },
  {
   "cell_type": "code",
   "execution_count": 3,
   "metadata": {},
   "outputs": [
    {
     "data": {
      "text/html": [
       "<div>\n",
       "<style scoped>\n",
       "    .dataframe tbody tr th:only-of-type {\n",
       "        vertical-align: middle;\n",
       "    }\n",
       "\n",
       "    .dataframe tbody tr th {\n",
       "        vertical-align: top;\n",
       "    }\n",
       "\n",
       "    .dataframe thead th {\n",
       "        text-align: right;\n",
       "    }\n",
       "</style>\n",
       "<table border=\"1\" class=\"dataframe\">\n",
       "  <thead>\n",
       "    <tr style=\"text-align: right;\">\n",
       "      <th></th>\n",
       "      <th>QUOTE_DATE</th>\n",
       "      <th>UNDERLYING_LAST</th>\n",
       "      <th>EXPIRE_DATE</th>\n",
       "      <th>DTE</th>\n",
       "      <th>STRIKE</th>\n",
       "      <th>C_ASK</th>\n",
       "    </tr>\n",
       "  </thead>\n",
       "  <tbody>\n",
       "    <tr>\n",
       "      <th>0</th>\n",
       "      <td>2015-01-02 00:00:00</td>\n",
       "      <td>103.06</td>\n",
       "      <td>2015-01-02 00:00:00</td>\n",
       "      <td>0.0</td>\n",
       "      <td>85.0</td>\n",
       "      <td>18.40</td>\n",
       "    </tr>\n",
       "    <tr>\n",
       "      <th>1</th>\n",
       "      <td>2015-01-02 00:00:00</td>\n",
       "      <td>103.06</td>\n",
       "      <td>2015-01-02 00:00:00</td>\n",
       "      <td>0.0</td>\n",
       "      <td>90.0</td>\n",
       "      <td>13.57</td>\n",
       "    </tr>\n",
       "    <tr>\n",
       "      <th>2</th>\n",
       "      <td>2015-01-02 00:00:00</td>\n",
       "      <td>103.06</td>\n",
       "      <td>2015-01-02 00:00:00</td>\n",
       "      <td>0.0</td>\n",
       "      <td>92.0</td>\n",
       "      <td>11.58</td>\n",
       "    </tr>\n",
       "    <tr>\n",
       "      <th>3</th>\n",
       "      <td>2015-01-02 00:00:00</td>\n",
       "      <td>103.06</td>\n",
       "      <td>2015-01-02 00:00:00</td>\n",
       "      <td>0.0</td>\n",
       "      <td>92.5</td>\n",
       "      <td>11.08</td>\n",
       "    </tr>\n",
       "    <tr>\n",
       "      <th>4</th>\n",
       "      <td>2015-01-02 00:00:00</td>\n",
       "      <td>103.06</td>\n",
       "      <td>2015-01-02 00:00:00</td>\n",
       "      <td>0.0</td>\n",
       "      <td>93.0</td>\n",
       "      <td>10.48</td>\n",
       "    </tr>\n",
       "    <tr>\n",
       "      <th>...</th>\n",
       "      <td>...</td>\n",
       "      <td>...</td>\n",
       "      <td>...</td>\n",
       "      <td>...</td>\n",
       "      <td>...</td>\n",
       "      <td>...</td>\n",
       "    </tr>\n",
       "    <tr>\n",
       "      <th>21769</th>\n",
       "      <td>2015-01-30 00:00:00</td>\n",
       "      <td>101.08</td>\n",
       "      <td>2017-01-20 00:00:00</td>\n",
       "      <td>721.0</td>\n",
       "      <td>125.0</td>\n",
       "      <td>3.21</td>\n",
       "    </tr>\n",
       "    <tr>\n",
       "      <th>21770</th>\n",
       "      <td>2015-01-30 00:00:00</td>\n",
       "      <td>101.08</td>\n",
       "      <td>2017-01-20 00:00:00</td>\n",
       "      <td>721.0</td>\n",
       "      <td>130.0</td>\n",
       "      <td>2.27</td>\n",
       "    </tr>\n",
       "    <tr>\n",
       "      <th>21771</th>\n",
       "      <td>2015-01-30 00:00:00</td>\n",
       "      <td>101.08</td>\n",
       "      <td>2017-01-20 00:00:00</td>\n",
       "      <td>721.0</td>\n",
       "      <td>135.0</td>\n",
       "      <td>1.55</td>\n",
       "    </tr>\n",
       "    <tr>\n",
       "      <th>21772</th>\n",
       "      <td>2015-01-30 00:00:00</td>\n",
       "      <td>101.08</td>\n",
       "      <td>2017-01-20 00:00:00</td>\n",
       "      <td>721.0</td>\n",
       "      <td>140.0</td>\n",
       "      <td>1.02</td>\n",
       "    </tr>\n",
       "    <tr>\n",
       "      <th>21773</th>\n",
       "      <td>2015-01-30 00:00:00</td>\n",
       "      <td>101.08</td>\n",
       "      <td>2017-01-20 00:00:00</td>\n",
       "      <td>721.0</td>\n",
       "      <td>145.0</td>\n",
       "      <td>0.79</td>\n",
       "    </tr>\n",
       "  </tbody>\n",
       "</table>\n",
       "<p>21774 rows × 6 columns</p>\n",
       "</div>"
      ],
      "text/plain": [
       "                QUOTE_DATE  UNDERLYING_LAST          EXPIRE_DATE    DTE  \\\n",
       "0      2015-01-02 00:00:00           103.06  2015-01-02 00:00:00    0.0   \n",
       "1      2015-01-02 00:00:00           103.06  2015-01-02 00:00:00    0.0   \n",
       "2      2015-01-02 00:00:00           103.06  2015-01-02 00:00:00    0.0   \n",
       "3      2015-01-02 00:00:00           103.06  2015-01-02 00:00:00    0.0   \n",
       "4      2015-01-02 00:00:00           103.06  2015-01-02 00:00:00    0.0   \n",
       "...                    ...              ...                  ...    ...   \n",
       "21769  2015-01-30 00:00:00           101.08  2017-01-20 00:00:00  721.0   \n",
       "21770  2015-01-30 00:00:00           101.08  2017-01-20 00:00:00  721.0   \n",
       "21771  2015-01-30 00:00:00           101.08  2017-01-20 00:00:00  721.0   \n",
       "21772  2015-01-30 00:00:00           101.08  2017-01-20 00:00:00  721.0   \n",
       "21773  2015-01-30 00:00:00           101.08  2017-01-20 00:00:00  721.0   \n",
       "\n",
       "       STRIKE  C_ASK  \n",
       "0        85.0  18.40  \n",
       "1        90.0  13.57  \n",
       "2        92.0  11.58  \n",
       "3        92.5  11.08  \n",
       "4        93.0  10.48  \n",
       "...       ...    ...  \n",
       "21769   125.0   3.21  \n",
       "21770   130.0   2.27  \n",
       "21771   135.0   1.55  \n",
       "21772   140.0   1.02  \n",
       "21773   145.0   0.79  \n",
       "\n",
       "[21774 rows x 6 columns]"
      ]
     },
     "execution_count": 3,
     "metadata": {},
     "output_type": "execute_result"
    }
   ],
   "source": [
    "d_df"
   ]
  },
  {
   "cell_type": "code",
   "execution_count": 4,
   "metadata": {},
   "outputs": [],
   "source": [
    "poor_wallet = Wallet()"
   ]
  },
  {
   "cell_type": "code",
   "execution_count": 5,
   "metadata": {},
   "outputs": [
    {
     "name": "stdout",
     "output_type": "stream",
     "text": [
      "amount: 0 \n",
      "    call_options_buy: <> \n",
      "    call_options_sell: <> \n",
      "    stocks: <>\n"
     ]
    }
   ],
   "source": [
    "print(poor_wallet)"
   ]
  },
  {
   "cell_type": "code",
   "execution_count": 6,
   "metadata": {},
   "outputs": [],
   "source": [
    "strategy = Strategy(d_df, poor_wallet, pd.Timestamp(dt.date.fromisoformat('2015-01-02')))"
   ]
  },
  {
   "cell_type": "code",
   "execution_count": null,
   "metadata": {},
   "outputs": [],
   "source": [
    "strategy = Strategy(d_df, poor_wallet, pd.Timestamp('2015-01-02'))"
   ]
  },
  {
   "cell_type": "code",
   "execution_count": 7,
   "metadata": {},
   "outputs": [
    {
     "name": "stdout",
     "output_type": "stream",
     "text": [
      "amount: -27.43 \n",
      "    call_options_buy: <option: qqq: strike=44.63 2016-01-15 00:00:00> \n",
      "    call_options_sell: <option: qqq: strike=70.0 2015-01-30 00:00:00> \n",
      "    stocks: <>\n"
     ]
    }
   ],
   "source": [
    "print(strategy.wallet)"
   ]
  },
  {
   "cell_type": "code",
   "execution_count": 8,
   "metadata": {},
   "outputs": [
    {
     "data": {
      "text/plain": [
       "-27.43"
      ]
     },
     "execution_count": 8,
     "metadata": {},
     "output_type": "execute_result"
    }
   ],
   "source": [
    "strategy.wallet.amount"
   ]
  },
  {
   "cell_type": "code",
   "execution_count": 9,
   "metadata": {},
   "outputs": [
    {
     "name": "stdout",
     "output_type": "stream",
     "text": [
      "44.63\n"
     ]
    }
   ],
   "source": [
    "print(strategy.wallet.call_options_buy[0].strike_price)"
   ]
  },
  {
   "cell_type": "code",
   "execution_count": null,
   "metadata": {},
   "outputs": [],
   "source": []
  }
 ],
 "metadata": {
  "kernelspec": {
   "display_name": ".venv",
   "language": "python",
   "name": "python3"
  },
  "language_info": {
   "codemirror_mode": {
    "name": "ipython",
    "version": 3
   },
   "file_extension": ".py",
   "mimetype": "text/x-python",
   "name": "python",
   "nbconvert_exporter": "python",
   "pygments_lexer": "ipython3",
   "version": "3.11.3"
  },
  "orig_nbformat": 4
 },
 "nbformat": 4,
 "nbformat_minor": 2
}
