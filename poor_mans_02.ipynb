{
 "cells": [
  {
   "cell_type": "code",
   "execution_count": 1,
   "metadata": {},
   "outputs": [],
   "source": [
    "import pandas as pd\n",
    "import datetime as dt\n",
    "from wallet import Wallet\n",
    "from option import Option\n",
    "from stock import Stock\n",
    "from data_gen import get_option_data"
   ]
  },
  {
   "cell_type": "code",
   "execution_count": 2,
   "metadata": {},
   "outputs": [],
   "source": [
    "d_df = get_option_data()"
   ]
  },
  {
   "cell_type": "code",
   "execution_count": 3,
   "metadata": {},
   "outputs": [
    {
     "data": {
      "text/html": [
       "<div>\n",
       "<style scoped>\n",
       "    .dataframe tbody tr th:only-of-type {\n",
       "        vertical-align: middle;\n",
       "    }\n",
       "\n",
       "    .dataframe tbody tr th {\n",
       "        vertical-align: top;\n",
       "    }\n",
       "\n",
       "    .dataframe thead th {\n",
       "        text-align: right;\n",
       "    }\n",
       "</style>\n",
       "<table border=\"1\" class=\"dataframe\">\n",
       "  <thead>\n",
       "    <tr style=\"text-align: right;\">\n",
       "      <th></th>\n",
       "      <th>QUOTE_DATE</th>\n",
       "      <th>UNDERLYING_LAST</th>\n",
       "      <th>EXPIRE_DATE</th>\n",
       "      <th>DTE</th>\n",
       "      <th>STRIKE</th>\n",
       "      <th>C_ASK</th>\n",
       "    </tr>\n",
       "  </thead>\n",
       "  <tbody>\n",
       "    <tr>\n",
       "      <th>0</th>\n",
       "      <td>2015-01-02</td>\n",
       "      <td>103.06</td>\n",
       "      <td>2015-01-02</td>\n",
       "      <td>0.0</td>\n",
       "      <td>85.0</td>\n",
       "      <td>18.40</td>\n",
       "    </tr>\n",
       "    <tr>\n",
       "      <th>1</th>\n",
       "      <td>2015-01-02</td>\n",
       "      <td>103.06</td>\n",
       "      <td>2015-01-02</td>\n",
       "      <td>0.0</td>\n",
       "      <td>90.0</td>\n",
       "      <td>13.57</td>\n",
       "    </tr>\n",
       "    <tr>\n",
       "      <th>2</th>\n",
       "      <td>2015-01-02</td>\n",
       "      <td>103.06</td>\n",
       "      <td>2015-01-02</td>\n",
       "      <td>0.0</td>\n",
       "      <td>92.0</td>\n",
       "      <td>11.58</td>\n",
       "    </tr>\n",
       "    <tr>\n",
       "      <th>3</th>\n",
       "      <td>2015-01-02</td>\n",
       "      <td>103.06</td>\n",
       "      <td>2015-01-02</td>\n",
       "      <td>0.0</td>\n",
       "      <td>92.5</td>\n",
       "      <td>11.08</td>\n",
       "    </tr>\n",
       "    <tr>\n",
       "      <th>4</th>\n",
       "      <td>2015-01-02</td>\n",
       "      <td>103.06</td>\n",
       "      <td>2015-01-02</td>\n",
       "      <td>0.0</td>\n",
       "      <td>93.0</td>\n",
       "      <td>10.48</td>\n",
       "    </tr>\n",
       "    <tr>\n",
       "      <th>...</th>\n",
       "      <td>...</td>\n",
       "      <td>...</td>\n",
       "      <td>...</td>\n",
       "      <td>...</td>\n",
       "      <td>...</td>\n",
       "      <td>...</td>\n",
       "    </tr>\n",
       "    <tr>\n",
       "      <th>21769</th>\n",
       "      <td>2015-01-30</td>\n",
       "      <td>101.08</td>\n",
       "      <td>2017-01-20</td>\n",
       "      <td>721.0</td>\n",
       "      <td>125.0</td>\n",
       "      <td>3.21</td>\n",
       "    </tr>\n",
       "    <tr>\n",
       "      <th>21770</th>\n",
       "      <td>2015-01-30</td>\n",
       "      <td>101.08</td>\n",
       "      <td>2017-01-20</td>\n",
       "      <td>721.0</td>\n",
       "      <td>130.0</td>\n",
       "      <td>2.27</td>\n",
       "    </tr>\n",
       "    <tr>\n",
       "      <th>21771</th>\n",
       "      <td>2015-01-30</td>\n",
       "      <td>101.08</td>\n",
       "      <td>2017-01-20</td>\n",
       "      <td>721.0</td>\n",
       "      <td>135.0</td>\n",
       "      <td>1.55</td>\n",
       "    </tr>\n",
       "    <tr>\n",
       "      <th>21772</th>\n",
       "      <td>2015-01-30</td>\n",
       "      <td>101.08</td>\n",
       "      <td>2017-01-20</td>\n",
       "      <td>721.0</td>\n",
       "      <td>140.0</td>\n",
       "      <td>1.02</td>\n",
       "    </tr>\n",
       "    <tr>\n",
       "      <th>21773</th>\n",
       "      <td>2015-01-30</td>\n",
       "      <td>101.08</td>\n",
       "      <td>2017-01-20</td>\n",
       "      <td>721.0</td>\n",
       "      <td>145.0</td>\n",
       "      <td>0.79</td>\n",
       "    </tr>\n",
       "  </tbody>\n",
       "</table>\n",
       "<p>21774 rows × 6 columns</p>\n",
       "</div>"
      ],
      "text/plain": [
       "       QUOTE_DATE  UNDERLYING_LAST EXPIRE_DATE    DTE  STRIKE  C_ASK\n",
       "0      2015-01-02           103.06  2015-01-02    0.0    85.0  18.40\n",
       "1      2015-01-02           103.06  2015-01-02    0.0    90.0  13.57\n",
       "2      2015-01-02           103.06  2015-01-02    0.0    92.0  11.58\n",
       "3      2015-01-02           103.06  2015-01-02    0.0    92.5  11.08\n",
       "4      2015-01-02           103.06  2015-01-02    0.0    93.0  10.48\n",
       "...           ...              ...         ...    ...     ...    ...\n",
       "21769  2015-01-30           101.08  2017-01-20  721.0   125.0   3.21\n",
       "21770  2015-01-30           101.08  2017-01-20  721.0   130.0   2.27\n",
       "21771  2015-01-30           101.08  2017-01-20  721.0   135.0   1.55\n",
       "21772  2015-01-30           101.08  2017-01-20  721.0   140.0   1.02\n",
       "21773  2015-01-30           101.08  2017-01-20  721.0   145.0   0.79\n",
       "\n",
       "[21774 rows x 6 columns]"
      ]
     },
     "execution_count": 3,
     "metadata": {},
     "output_type": "execute_result"
    }
   ],
   "source": [
    "d_df"
   ]
  },
  {
   "cell_type": "code",
   "execution_count": 4,
   "metadata": {},
   "outputs": [
    {
     "data": {
      "text/plain": [
       "QUOTE_DATE         2015-01-02\n",
       "UNDERLYING_LAST        103.06\n",
       "EXPIRE_DATE        2015-01-02\n",
       "DTE                       0.0\n",
       "STRIKE                   93.0\n",
       "C_ASK                   10.48\n",
       "Name: 4, dtype: object"
      ]
     },
     "execution_count": 4,
     "metadata": {},
     "output_type": "execute_result"
    }
   ],
   "source": [
    "d_df.loc[4,:]"
   ]
  },
  {
   "cell_type": "code",
   "execution_count": 5,
   "metadata": {},
   "outputs": [],
   "source": [
    "poor_wallet = Wallet()"
   ]
  },
  {
   "cell_type": "code",
   "execution_count": 6,
   "metadata": {},
   "outputs": [],
   "source": [
    "option_to_buy = Option.from_data_series(d_df.loc[956,:])"
   ]
  },
  {
   "cell_type": "code",
   "execution_count": 7,
   "metadata": {},
   "outputs": [
    {
     "name": "stdout",
     "output_type": "stream",
     "text": [
      "option: qqq: strike=120.0 2015-12-18\n"
     ]
    }
   ],
   "source": [
    "print(option_to_buy)"
   ]
  },
  {
   "cell_type": "code",
   "execution_count": 8,
   "metadata": {},
   "outputs": [],
   "source": [
    "option_to_sell = Option.from_data_series(d_df.loc[199,:])"
   ]
  },
  {
   "cell_type": "code",
   "execution_count": 9,
   "metadata": {},
   "outputs": [
    {
     "name": "stdout",
     "output_type": "stream",
     "text": [
      "option: qqq: strike=110.0 2015-01-16\n"
     ]
    }
   ],
   "source": [
    "print(option_to_sell)"
   ]
  },
  {
   "cell_type": "code",
   "execution_count": 10,
   "metadata": {},
   "outputs": [
    {
     "data": {
      "text/plain": [
       "<option.Option at 0x128551690>"
      ]
     },
     "execution_count": 10,
     "metadata": {},
     "output_type": "execute_result"
    }
   ],
   "source": [
    "option_to_sell"
   ]
  },
  {
   "cell_type": "code",
   "execution_count": 11,
   "metadata": {},
   "outputs": [
    {
     "name": "stdout",
     "output_type": "stream",
     "text": [
      "amount: 0 \n",
      "    call_options_buy: <> \n",
      "    call_options_sell: <> \n",
      "    stocks: <>\n"
     ]
    }
   ],
   "source": [
    "print(poor_wallet)"
   ]
  },
  {
   "cell_type": "code",
   "execution_count": 12,
   "metadata": {},
   "outputs": [],
   "source": [
    "poor_wallet.buy_call_option(option_to_buy)"
   ]
  },
  {
   "cell_type": "code",
   "execution_count": 13,
   "metadata": {},
   "outputs": [
    {
     "name": "stdout",
     "output_type": "stream",
     "text": [
      "amount: -1.48 \n",
      "    call_options_buy: <option: qqq: strike=120.0 2015-12-18> \n",
      "    call_options_sell: <> \n",
      "    stocks: <>\n"
     ]
    }
   ],
   "source": [
    "print(poor_wallet)"
   ]
  },
  {
   "cell_type": "code",
   "execution_count": 14,
   "metadata": {},
   "outputs": [],
   "source": [
    "poor_wallet.sell_call_option(option_to_sell)"
   ]
  },
  {
   "cell_type": "code",
   "execution_count": 15,
   "metadata": {},
   "outputs": [
    {
     "name": "stdout",
     "output_type": "stream",
     "text": [
      "amount: -1.47 \n",
      "    call_options_buy: <option: qqq: strike=120.0 2015-12-18> \n",
      "    call_options_sell: <option: qqq: strike=110.0 2015-01-16> \n",
      "    stocks: <>\n"
     ]
    }
   ],
   "source": [
    "print(poor_wallet)"
   ]
  },
  {
   "cell_type": "code",
   "execution_count": 16,
   "metadata": {},
   "outputs": [],
   "source": [
    "poor_wallet.realize_buy_call_option(0)"
   ]
  },
  {
   "cell_type": "code",
   "execution_count": 17,
   "metadata": {},
   "outputs": [
    {
     "name": "stdout",
     "output_type": "stream",
     "text": [
      "amount: -121.47 \n",
      "    call_options_buy: <> \n",
      "    call_options_sell: <option: qqq: strike=110.0 2015-01-16> \n",
      "    stocks: <stock: qqq>\n"
     ]
    }
   ],
   "source": [
    "print(poor_wallet)"
   ]
  },
  {
   "cell_type": "code",
   "execution_count": 18,
   "metadata": {},
   "outputs": [
    {
     "name": "stdout",
     "output_type": "stream",
     "text": [
      "amount: -121.47 \n",
      "    call_options_buy: <> \n",
      "    call_options_sell: <option: qqq: strike=110.0 2015-01-16> \n",
      "    stocks: <stock: qqq>\n"
     ]
    }
   ],
   "source": [
    "print(poor_wallet)"
   ]
  },
  {
   "cell_type": "code",
   "execution_count": 19,
   "metadata": {},
   "outputs": [],
   "source": [
    "poor_wallet.realize_sell_call_option(0)"
   ]
  },
  {
   "cell_type": "code",
   "execution_count": 20,
   "metadata": {},
   "outputs": [
    {
     "name": "stdout",
     "output_type": "stream",
     "text": [
      "amount: -11.469999999999999 \n",
      "    call_options_buy: <> \n",
      "    call_options_sell: <> \n",
      "    stocks: <stock: qqq>\n"
     ]
    }
   ],
   "source": [
    "print(poor_wallet)"
   ]
  },
  {
   "cell_type": "code",
   "execution_count": 21,
   "metadata": {},
   "outputs": [
    {
     "name": "stdout",
     "output_type": "stream",
     "text": [
      "amount: -11.469999999999999 \n",
      "    call_options_buy: <> \n",
      "    call_options_sell: <> \n",
      "    stocks: <stock: qqq>\n"
     ]
    }
   ],
   "source": [
    "print(poor_wallet)"
   ]
  },
  {
   "cell_type": "code",
   "execution_count": 22,
   "metadata": {},
   "outputs": [],
   "source": [
    "poor_wallet.sell_call_option(option_to_sell)"
   ]
  },
  {
   "cell_type": "code",
   "execution_count": 23,
   "metadata": {},
   "outputs": [
    {
     "name": "stdout",
     "output_type": "stream",
     "text": [
      "amount: -11.459999999999999 \n",
      "    call_options_buy: <> \n",
      "    call_options_sell: <option: qqq: strike=110.0 2015-01-16> \n",
      "    stocks: <stock: qqq>\n"
     ]
    }
   ],
   "source": [
    "print(poor_wallet)"
   ]
  },
  {
   "cell_type": "code",
   "execution_count": 24,
   "metadata": {},
   "outputs": [],
   "source": [
    "poor_wallet.close_sell_call_option(price=10)"
   ]
  },
  {
   "cell_type": "code",
   "execution_count": 25,
   "metadata": {},
   "outputs": [
    {
     "name": "stdout",
     "output_type": "stream",
     "text": [
      "amount: -21.46 \n",
      "    call_options_buy: <> \n",
      "    call_options_sell: <> \n",
      "    stocks: <stock: qqq>\n"
     ]
    }
   ],
   "source": [
    "print(poor_wallet)"
   ]
  },
  {
   "cell_type": "code",
   "execution_count": 26,
   "metadata": {},
   "outputs": [],
   "source": [
    "poor_wallet.buy_call_option(option_to_buy)"
   ]
  },
  {
   "cell_type": "code",
   "execution_count": 27,
   "metadata": {},
   "outputs": [
    {
     "name": "stdout",
     "output_type": "stream",
     "text": [
      "amount: -22.94 \n",
      "    call_options_buy: <option: qqq: strike=120.0 2015-12-18> \n",
      "    call_options_sell: <> \n",
      "    stocks: <stock: qqq>\n"
     ]
    }
   ],
   "source": [
    "print(poor_wallet)"
   ]
  },
  {
   "cell_type": "code",
   "execution_count": 28,
   "metadata": {},
   "outputs": [],
   "source": [
    "poor_wallet.close_buy_call_option(10)"
   ]
  },
  {
   "cell_type": "code",
   "execution_count": 29,
   "metadata": {},
   "outputs": [
    {
     "name": "stdout",
     "output_type": "stream",
     "text": [
      "amount: -12.940000000000001 \n",
      "    call_options_buy: <> \n",
      "    call_options_sell: <> \n",
      "    stocks: <stock: qqq>\n"
     ]
    }
   ],
   "source": [
    "print(poor_wallet)"
   ]
  }
 ],
 "metadata": {
  "kernelspec": {
   "display_name": ".venv",
   "language": "python",
   "name": "python3"
  },
  "language_info": {
   "codemirror_mode": {
    "name": "ipython",
    "version": 3
   },
   "file_extension": ".py",
   "mimetype": "text/x-python",
   "name": "python",
   "nbconvert_exporter": "python",
   "pygments_lexer": "ipython3",
   "version": "3.11.3"
  },
  "orig_nbformat": 4
 },
 "nbformat": 4,
 "nbformat_minor": 2
}
